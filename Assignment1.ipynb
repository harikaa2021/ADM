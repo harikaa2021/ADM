{
  "nbformat": 4,
  "nbformat_minor": 0,
  "metadata": {
    "colab": {
      "provenance": [],
      "authorship_tag": "ABX9TyPn7EFBDnwUP7aobeQoUC2r",
      "include_colab_link": true
    },
    "kernelspec": {
      "name": "python3",
      "display_name": "Python 3"
    },
    "language_info": {
      "name": "python"
    }
  },
  "cells": [
    {
      "cell_type": "markdown",
      "metadata": {
        "id": "view-in-github",
        "colab_type": "text"
      },
      "source": [
        "<a href=\"https://colab.research.google.com/github/harikaa2021/ADM/blob/main/Assignment1.ipynb\" target=\"_parent\"><img src=\"https://colab.research.google.com/assets/colab-badge.svg\" alt=\"Open In Colab\"/></a>"
      ]
    },
    {
      "cell_type": "code",
      "execution_count": 2,
      "metadata": {
        "colab": {
          "base_uri": "https://localhost:8080/"
        },
        "id": "xxCPJIOBqmz_",
        "outputId": "70aecb29-7b58-4729-eb24-c2c828da2e65"
      },
      "outputs": [
        {
          "output_type": "stream",
          "name": "stdout",
          "text": [
            "Dataset before preprocessing:\n",
            "   Employee_ID   Age    Salary  Job_Satisfaction  Work_Hours_Per_Week\n",
            "0         1001  50.0  108953.0               9.0                   36\n",
            "1         1002  36.0   82995.0               8.0                   59\n",
            "2         1003  29.0   70757.0               2.0                   30\n",
            "3         1004  42.0   39692.0               1.0                   30\n",
            "4         1005  40.0   75758.0               7.0                   54\n",
            "\n",
            "Dataset after preprocessing:\n",
            "   Employee_ID       Age    Salary  Job_Satisfaction  Work_Hours_Per_Week  \\\n",
            "0         1001  0.750000  0.877708          1.275854            -0.905969   \n",
            "1         1002  0.361111  0.585375          0.872103             1.483629   \n",
            "2         1003  0.166667  0.447554         -1.550405            -1.529343   \n",
            "3         1004  0.527778  0.097707         -1.954156            -1.529343   \n",
            "4         1005  0.472222  0.503874          0.468352             0.964151   \n",
            "\n",
            "   Age_manual  Salary_manual  \n",
            "0    0.750000       0.877708  \n",
            "1    0.361111       0.585375  \n",
            "2    0.166667       0.447554  \n",
            "3    0.527778       0.097707  \n",
            "4    0.472222       0.503874  \n"
          ]
        },
        {
          "output_type": "stream",
          "name": "stderr",
          "text": [
            "<ipython-input-2-1be15caf1c27>:14: FutureWarning: A value is trying to be set on a copy of a DataFrame or Series through chained assignment using an inplace method.\n",
            "The behavior will change in pandas 3.0. This inplace method will never work because the intermediate object on which we are setting values always behaves as a copy.\n",
            "\n",
            "For example, when doing 'df[col].method(value, inplace=True)', try using 'df.method({col: value}, inplace=True)' or df[col] = df[col].method(value) instead, to perform the operation inplace on the original object.\n",
            "\n",
            "\n",
            "  df['Age'].fillna(df['Age'].mean(), inplace=True)\n",
            "<ipython-input-2-1be15caf1c27>:15: FutureWarning: A value is trying to be set on a copy of a DataFrame or Series through chained assignment using an inplace method.\n",
            "The behavior will change in pandas 3.0. This inplace method will never work because the intermediate object on which we are setting values always behaves as a copy.\n",
            "\n",
            "For example, when doing 'df[col].method(value, inplace=True)', try using 'df.method({col: value}, inplace=True)' or df[col] = df[col].method(value) instead, to perform the operation inplace on the original object.\n",
            "\n",
            "\n",
            "  df['Salary'].fillna(df['Salary'].mean(), inplace=True)\n",
            "<ipython-input-2-1be15caf1c27>:18: FutureWarning: A value is trying to be set on a copy of a DataFrame or Series through chained assignment using an inplace method.\n",
            "The behavior will change in pandas 3.0. This inplace method will never work because the intermediate object on which we are setting values always behaves as a copy.\n",
            "\n",
            "For example, when doing 'df[col].method(value, inplace=True)', try using 'df.method({col: value}, inplace=True)' or df[col] = df[col].method(value) instead, to perform the operation inplace on the original object.\n",
            "\n",
            "\n",
            "  df['Job_Satisfaction'].fillna(df['Job_Satisfaction'].mode()[0], inplace=True)\n"
          ]
        }
      ],
      "source": [
        "import pandas as pd\n",
        "import numpy as np\n",
        "from sklearn.preprocessing import MinMaxScaler, StandardScaler\n",
        "\n",
        "# Step 1: Load the dataset\n",
        "df = pd.read_csv('employee_data.csv')\n",
        "\n",
        "# Display the dataset before preprocessing\n",
        "print(\"Dataset before preprocessing:\")\n",
        "print(df.head())\n",
        "\n",
        "# Step 2: Handle missing values\n",
        "# Fill missing values with mean for Age and Salary\n",
        "df['Age'].fillna(df['Age'].mean(), inplace=True)\n",
        "df['Salary'].fillna(df['Salary'].mean(), inplace=True)\n",
        "\n",
        "# Fill missing values with mode for Job_Satisfaction\n",
        "df['Job_Satisfaction'].fillna(df['Job_Satisfaction'].mode()[0], inplace=True)\n",
        "\n",
        "# Step 3: Feature scaling\n",
        "# Min-Max Scaling for Age and Salary using built-in MinMaxScaler\n",
        "scaler = MinMaxScaler()\n",
        "df[['Age', 'Salary']] = scaler.fit_transform(df[['Age', 'Salary']])\n",
        "\n",
        "# Min-Max Scaling manually\n",
        "df['Age_manual'] = (df['Age'] - df['Age'].min()) / (df['Age'].max() - df['Age'].min())\n",
        "df['Salary_manual'] = (df['Salary'] - df['Salary'].min()) / (df['Salary'].max() - df['Salary'].min())\n",
        "\n",
        "# Standardization (Z-score normalization) for Job_Satisfaction and Work_Hours_Per_Week using built-in StandardScaler\n",
        "scaler = StandardScaler()\n",
        "df[['Job_Satisfaction', 'Work_Hours_Per_Week']] = scaler.fit_transform(df[['Job_Satisfaction', 'Work_Hours_Per_Week']])\n",
        "\n",
        "# Display the dataset after preprocessing\n",
        "print(\"\\nDataset after preprocessing:\")\n",
        "print(df.head())\n",
        "\n",
        "# Save the preprocessed dataset to a new CSV file\n",
        "df.to_csv('preprocessed_employee_data.csv', index=False)"
      ]
    }
  ]
}